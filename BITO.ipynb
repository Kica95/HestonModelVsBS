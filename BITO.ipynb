{
  "nbformat": 4,
  "nbformat_minor": 0,
  "metadata": {
    "colab": {
      "provenance": []
    },
    "kernelspec": {
      "name": "python3",
      "display_name": "Python 3"
    },
    "language_info": {
      "name": "python"
    }
  },
  "cells": [
    {
      "cell_type": "code",
      "execution_count": null,
      "metadata": {
        "id": "iwSHhKF2hcfh"
      },
      "outputs": [],
      "source": [
        "import plotly.graph_objects as go\n",
        "import numpy as np\n",
        "import sympy as sp\n",
        "import numpy.linalg as LA\n",
        "import numpy.random as npr\n",
        "from scipy.special import binom\n",
        "import scipy.interpolate as sin\n",
        "from scipy import stats"
      ]
    },
    {
      "cell_type": "code",
      "source": [
        "#Import libraries\n",
        "\n",
        "import numpy as np\n",
        "import math as math\n",
        "import cmath as cmath\n",
        "import matplotlib.pyplot as plt\n",
        "from scipy.optimize import minimize\n",
        "from functools import partial\n",
        "\n",
        "#Class to hold the relevant functions\n",
        "\n",
        "class Heston(object):\n",
        "\n",
        "    def __init__(self,S0,K,tau,r,kappa,theta,v0,lamda,sigma,rho): #Constructor for initiating the class\n",
        "\n",
        "        self.x0=math.log(S0);\n",
        "        self.ln_k=math.log(K);\n",
        "        self.r=r;\n",
        "        self.v0=v0;\n",
        "        self.kappa=kappa;\n",
        "        self.theta=theta;\n",
        "        self.lamda=lamda;\n",
        "        self.sigma=sigma;\n",
        "        self.rho=rho;\n",
        "        self.tau=tau;\n",
        "\n",
        "        self.a=kappa*theta;\n",
        "        self.u=[0.5,-0.5];\n",
        "        self.b=[kappa+lamda-rho*sigma,kappa+lamda];\n",
        "\n",
        "    def reset_parameters(self,S0,K,tau,r,kappa,theta,v0,lamda,sigma,rho): # Function for resetting the constant parameters\n",
        "        self.x0=math.log(S0);\n",
        "        self.ln_k=math.log(K);\n",
        "        self.r=r;\n",
        "        self.v0=v0;\n",
        "        self.kappa=kappa;\n",
        "        self.theta=theta;\n",
        "        self.lamda=lamda;\n",
        "        self.sigma=sigma;\n",
        "        self.rho=rho;\n",
        "        self.tau=tau;\n",
        "\n",
        "        self.a=kappa*theta;\n",
        "        self.u=[0.5,-0.5];\n",
        "        self.b=[kappa+lamda-rho*sigma,kappa+lamda];\n",
        "\n",
        "\n",
        "    def characteristic_func(self,phi):#Return the characteristic functions f1 and f2, each of which has a real and a complex part\n",
        "\n",
        "        d=[0.0,0.0];g=[0.0,0.0];C=[0.0,0.0];D=[0.0,0.0];edt=[0.0,0.0];gedt=[0.0,0.0]; f=[0.0,0.0];\n",
        "\n",
        "        for j in range(2):\n",
        "\n",
        "            temp=self.b[j]-1j*self.rho*self.sigma*phi;\n",
        "\n",
        "            d[j]=cmath.sqrt(temp**2-self.sigma**2*(2.0*self.u[j]*phi*1j-phi**2));\n",
        "\n",
        "            g[j]=(temp+d[j])/(temp-d[j]);\n",
        "\n",
        "            edt[j]=cmath.exp(d[j]*self.tau);\n",
        "            gedt[j]=1.0-g[j]*edt[j];\n",
        "\n",
        "            D[j]=(temp+d[j])*(1.0-edt[j])/gedt[j]/self.sigma/self.sigma;\n",
        "            C[j]=self.r*phi*self.tau*1j+self.a/self.sigma/self.sigma*((temp+d[j])*self.tau-2.0*cmath.log(gedt[j]/(1.0-g[j])));\n",
        "            f[j]=cmath.exp(C[j]+D[j]*self.v0+1j*phi*self.x0);\n",
        "\n",
        "        return f;\n",
        "\n",
        "    def f1(self,phi):#f1 only using a copy of the previous code with minimal change, i.e.,j=0 replaes loop\n",
        "\n",
        "        d=[0.0,0.0];g=[0.0,0.0];C=[0.0,0.0];D=[0.0,0.0];edt=[0.0,0.0];gedt=[0.0,0.0]; f=[0.0,0.0];\n",
        "\n",
        "        j=0;\n",
        "\n",
        "        temp=self.b[j]-1j*self.rho*self.sigma*phi;\n",
        "\n",
        "        d[j]=cmath.sqrt(temp**2-self.sigma**2*(2.0*self.u[j]*phi*1j-phi**2));\n",
        "        g[j]=(temp+d[j])/(temp-d[j]);\n",
        "\n",
        "        edt[j]=cmath.exp(d[j]*self.tau);\n",
        "        gedt[j]=1.0-g[j]*edt[j];\n",
        "\n",
        "        D[j]=(temp+d[j])*(1.0-edt[j])/gedt[j]/self.sigma/self.sigma;\n",
        "        C[j]=self.r*phi*self.tau*1j+self.a/self.sigma/self.sigma*((temp+d[j])*self.tau-2.0*cmath.log(gedt[j]/(1.0-g[j])));\n",
        "        f[j]=cmath.exp(C[j]+D[j]*self.v0+1j*phi*self.x0);\n",
        "\n",
        "        return f[0];\n",
        "\n",
        "    def f2(self,phi):# f2 only using a copy of the previous code with minimal change, i.e.,now j=1 replaes loop\n",
        "\n",
        "        d=[0.0,0.0];g=[0.0,0.0];C=[0.0,0.0];D=[0.0,0.0];edt=[0.0,0.0];gedt=[0.0,0.0]; f=[0.0,0.0];\n",
        "\n",
        "        j=1;\n",
        "\n",
        "        temp=self.b[j]-1j*self.rho*self.sigma*phi;\n",
        "\n",
        "        d[j]=cmath.sqrt(temp**2-self.sigma**2*(2.0*self.u[j]*phi*1j-phi**2));\n",
        "        g[j]=(temp+d[j])/(temp-d[j]);\n",
        "\n",
        "        edt[j]=cmath.exp(d[j]*self.tau);\n",
        "        gedt[j]=1.0-g[j]*edt[j];\n",
        "\n",
        "        D[j]=(temp+d[j])*(1.0-edt[j])/gedt[j]/self.sigma/self.sigma;\n",
        "        C[j]=self.r*phi*self.tau*1j+self.a/self.sigma/self.sigma*((temp+d[j])*self.tau-2.0*cmath.log(gedt[j]/(1.0-g[j])));\n",
        "        f[j]=cmath.exp(C[j]+D[j]*self.v0+1j*phi*self.x0);\n",
        "\n",
        "        return f[1];\n",
        "\n",
        "    def P1_integrand(self,phi): #Returns the integrand  that appears in the P1 formula\n",
        "        temp=cmath.exp(-1j*phi*self.ln_k)*self.f1(phi)/1j/phi;\n",
        "        return temp.real;\n",
        "\n",
        "    def P2_integrand(self,phi):  #Returns the integrand  that appears in the P1 formula\n",
        "        temp=cmath.exp(-1j*phi*self.ln_k)*self.f2(phi)/1j/phi;\n",
        "        return temp.real;\n",
        "\n",
        "    def Probabilities(self,a,b,n):  #Compute the two probabilities: a and b are the integration limits, n is the number of intervals\n",
        "                                    # usually the interval >0 to 100 captures the range that matters, so no need to go to b=infinity!\n",
        "        pi_i=1.0/math.pi;\n",
        "        P1=0.5+pi_i*trapzd(self.P1_integrand,a,b,n); #trapzd function is de\n",
        "        P2=0.5+pi_i*trapzd(self.P2_integrand,a,b,n);\n",
        "        P=[P1,P2];\n",
        "        return P;\n",
        "\n",
        "    def price(self,a,b,n):\n",
        "        Ps=self.Probabilities(a,b,n);\n",
        "\n",
        "        call_price=math.exp(self.x0)*Ps[0]-math.exp(self.ln_k-self.r*self.tau)*Ps[1];\n",
        "        put_price=call_price-(math.exp(self.x0)-math.exp(self.ln_k-self.r*self.tau));\n",
        "\n",
        "        output={\n",
        "            \"Call price\":call_price,\n",
        "            \"Put price\":put_price,\n",
        "            \"P1\":Ps[0],\n",
        "            \"P2\":Ps[1]\n",
        "        }\n",
        "        return output;\n",
        "\n",
        "    def plot_f1f2(self): # Plot real parts of the characteristic functions (f1 and f2),\n",
        "                         # and the integrands that appear in P1 and P2\n",
        "\n",
        "        n=2000;\n",
        "        lwr=-50.111;\n",
        "        upr=50.0311;\n",
        "\n",
        "        x=np.linspace(lwr,upr,n+1);\n",
        "        fs=[self.characteristic_func(x[i]) for i in range(n+1)];\n",
        "\n",
        "        y1=[fs[i][0].real for i in range(n+1)];\n",
        "        y2=[fs[i][0].imag for i in range(n+1)];\n",
        "        y3=[self.P1_integrand(x[i]) for i in range(n+1)];\n",
        "        y4=[fs[i][1].real for i in range(n+1)];\n",
        "        y5=[fs[i][1].imag for i in range(n+1)];\n",
        "        y6=[self.P2_integrand(x[i]) for i in range(n+1)];\n",
        "\n",
        "        fig=plt.figure();\n",
        "        f1_real=fig.add_subplot(231);\n",
        "        f1_real.set_title('Real part of F1');\n",
        "        f1_real.plot(x,y1);\n",
        "\n",
        "        f1_imag=fig.add_subplot(232);\n",
        "        f1_imag.set_title('Imaginary part of F1');\n",
        "        f1_imag.plot(x,y2);\n",
        "\n",
        "        f1_integrand=fig.add_subplot(233);\n",
        "        f1_integrand.set_title('Integrand of P1');\n",
        "        f1_integrand.plot(x,y3);\n",
        "\n",
        "        f2_real=fig.add_subplot(234);\n",
        "        f2_real.set_title('Real part of F2');\n",
        "        f2_real.plot(x,y4);\n",
        "\n",
        "        f2_imag=fig.add_subplot(235);\n",
        "        f2_imag.set_title('Imaginary part of F2');\n",
        "        f2_imag.plot(x,y5);\n",
        "\n",
        "        f2_integrand=fig.add_subplot(236);\n",
        "        f2_integrand.set_title('Integrand of P2');\n",
        "        f2_integrand.plot(x,y6);\n",
        "\n",
        "        plt.show();\n",
        "\n",
        "  #end class\n",
        "\n",
        "\n",
        "def trapzd(func,a,b,n): #Trapzoid method for numerical integration, one can also use a function from scipy.integrate library\n",
        "\n",
        "    if (n<1):\n",
        "        return ;\n",
        "    elif (n==1):\n",
        "        return 0.5*(b-a)*(func(a)+func(b));\n",
        "    else:\n",
        "\n",
        "        temp=0.0;\n",
        "        dx=(b-a)/n;\n",
        "\n",
        "        x=np.linspace(a,b,n+1);\n",
        "        y=[func(x[i]) for i in range(n+1)];\n",
        "\n",
        "        temp=0.5*dx*np.sum(y[1:]+ y[:-1]);\n",
        "        return temp;\n",
        "\n",
        "\n",
        "#Usage Example\n",
        "#hc=Heston(S0=240,K=235,tau=1/12,r=0.027,kappa=5.0,theta=0.1,v0=0.4269,lamda=0.5,sigma=0.4269,rho=-0.7);\n",
        "\n",
        "#price=hc.price(0.00001,100,10000);\n",
        "\n",
        "#print(\"The prices of European options and the underlying P1 and P2 are presented below:\\n\")\n",
        "#print(price)\n",
        "\n",
        "#print(\"\\n\\nThe price is based on the following parameters:\\n\")\n",
        "#print(vars(hc))\n",
        "#hc.plot_f1f2()\n",
        "\n",
        "options_data = [\n",
        "    {'S0': 20.91, 'K': 21, 'tau': 3/252, 'r': 0.0465*3/252, 'v0': 0.72, 'market_price': 2.01},\n",
        "    {'S0': 20.91, 'K': 20, 'tau': 3/252, 'r': 0.0465*3/252, 'v0': 0.72, 'market_price': 2.77},\n",
        "    {'S0': 20.91, 'K': 17, 'tau': 3/252, 'r': 0.0465*3/252, 'v0': 0.72, 'market_price': 5.5},\n",
        "    {'S0': 20.91, 'K': 11, 'tau': 3/252, 'r': 0.0465*3/252, 'v0': 0.72, 'market_price': 11.41},\n",
        "    {'S0': 20.91, 'K': 14, 'tau': 3/252, 'r': 0.0465*3/252, 'v0': 0.72, 'market_price': 8.43},\n",
        "    {'S0': 20.91, 'K': 19, 'tau': 3/252, 'r': 0.0465*3/252, 'v0': 0.72, 'market_price': 3.63},\n",
        "    {'S0': 20.91, 'K': 16, 'tau': 3/252, 'r': 0.0465*3/252, 'v0': 0.72, 'market_price': 6.47}\n",
        "]\n",
        "\n",
        "# Function to calculate the squared difference between model price and market price\n",
        "def objective_function(params, option_data):\n",
        "    kappa, theta, sigma, lamda, rho = params\n",
        "    model_prices = []\n",
        "\n",
        "    for option in option_data:\n",
        "        hc = Heston(option['S0'], option['K'], option['tau'], option['r'], kappa, theta, option['v0'], lamda,sigma, rho)\n",
        "        model_prices.append(hc.price(0.00001, 100, 10000)['Call price'])  # Using call price for optimization\n",
        "\n",
        "    return np.sum((np.array(model_prices) - np.array([option['market_price'] for option in option_data]))**2)\n",
        "\n",
        "# Initial guess for the parameters\n",
        "initial_params = [5.0, 0.1, 0.4269, 0.5, -0.7]\n",
        "\n",
        "# Perform optimization\n",
        "result = minimize(partial(objective_function, option_data=options_data), initial_params, method='Nelder-Mead')\n",
        "\n",
        "# Extract optimized parameters\n",
        "optimized_params = result.x\n",
        "\n",
        "print(\"Optimized Parameters:\")\n",
        "print(\"kappa:\", optimized_params[0])\n",
        "print(\"theta:\", optimized_params[1])\n",
        "print(\"sigma:\", optimized_params[2])\n",
        "print(\"lamda:\", optimized_params[3])\n",
        "print(\"rho:\", optimized_params[4])"
      ],
      "metadata": {
        "colab": {
          "base_uri": "https://localhost:8080/"
        },
        "id": "Io7Fk5d6hv1P",
        "outputId": "a124079c-a24c-4750-fe87-0f48c286b32d"
      },
      "execution_count": null,
      "outputs": [
        {
          "output_type": "stream",
          "name": "stdout",
          "text": [
            "Optimized Parameters:\n",
            "kappa: -74.95699093924736\n",
            "theta: 0.5196561116141674\n",
            "sigma: 1.6517242175941487\n",
            "lamda: -9.881809511754781\n",
            "rho: -1.617885879471375\n"
          ]
        }
      ]
    },
    {
      "cell_type": "code",
      "source": [
        "#Usage Example\n",
        "hc=Heston(S0=20.91,K=15,tau=3/252,r=00.0465*3/252,kappa=-74.95699093924736,theta=0.5196561116141674,v0=0.72,lamda=-9.881809511754781,sigma=1.6517242175941487,rho=-1.617885879471375);\n",
        "\n",
        "price=hc.price(0.00001,100,10000);\n",
        "\n",
        "print(\"The prices of European options and the underlying P1 and P2 are presented below:\\n\")\n",
        "print(price)\n",
        "\n",
        "print(\"\\n\\nThe price is based on the following parameters:\\n\")\n",
        "print(vars(hc))\n",
        "hc.plot_f1f2()"
      ],
      "metadata": {
        "colab": {
          "base_uri": "https://localhost:8080/",
          "height": 618
        },
        "id": "8yrOvfIGtvRg",
        "outputId": "07df3390-abaa-45ea-e888-0e96ef2ac5c1"
      },
      "execution_count": null,
      "outputs": [
        {
          "output_type": "stream",
          "name": "stdout",
          "text": [
            "The prices of European options and the underlying P1 and P2 are presented below:\n",
            "\n",
            "{'Call price': 6.591084326598226, 'Put price': 0.6809854748831263, 'P1': 1.0575532265357663, 'P2': 1.0348303956682732}\n",
            "\n",
            "\n",
            "The price is based on the following parameters:\n",
            "\n",
            "{'x0': 3.0402275134405423, 'ln_k': 2.70805020110221, 'r': 0.0005535714285714287, 'v0': 0.72, 'kappa': -74.95699093924736, 'theta': 0.5196561116141674, 'lamda': -9.881809511754781, 'sigma': 1.6517242175941487, 'rho': -1.617885879471375, 'tau': 0.011904761904761904, 'a': -38.95185844978766, 'u': [0.5, -0.5], 'b': [-82.16649916257566, -84.83880045100214]}\n"
          ]
        },
        {
          "output_type": "display_data",
          "data": {
            "text/plain": [
              "<Figure size 640x480 with 6 Axes>"
            ],
            "image/png": "[encoded data removed]"
          },
          "metadata": {}
        }
      ]
    },
    {
      "cell_type": "code",
      "source": [
        "def bs_no_Div(s0, X, sigma, r, T,call=True):\n",
        "    \"\"\"Calculate price of an option with BS equation for option pricing:\n",
        "    - s0: price today of underlying asset\n",
        "    - X: strike price\n",
        "    - r: annualized risk-free rate\n",
        "    - T: time to maturity expressed yearly\n",
        "    - call: optional boolen parameter, if True option in question is call, else it is treated as put\"\"\"\n",
        "    d1 = (np.log(s0/X) + (r + sigma**2/ 2)*T)/(sigma * np.sqrt(T))\n",
        "    d2 = (np.log(s0/X) + (r - sigma**2/ 2)*T)/(sigma * np.sqrt(T))\n",
        "    if call:\n",
        "        return s0*stats.norm.cdf(d1) - X*np.exp(-r*T)*stats.norm.cdf(d2)\n",
        "    else:\n",
        "        return X*np.exp(-r*T)*stats.norm.cdf(-d2) - s0*stats.norm.cdf(-d1)"
      ],
      "metadata": {
        "id": "qozVM3TfuqNt"
      },
      "execution_count": null,
      "outputs": []
    },
    {
      "cell_type": "code",
      "source": [
        "bs_price=bs_no_Div(20.91,15,0.72,0.0465*3/252,3/252,call=True)\n",
        "bs_price"
      ],
      "metadata": {
        "colab": {
          "base_uri": "https://localhost:8080/"
        },
        "id": "DIJQaiu_uuNn",
        "outputId": "56516349-2374-4822-e063-663dab3584de"
      },
      "execution_count": null,
      "outputs": [
        {
          "output_type": "execute_result",
          "data": {
            "text/plain": [
              "5.9101023742302825"
            ]
          },
          "metadata": {},
          "execution_count": 8
        }
      ]
    },
    {
      "cell_type": "code",
      "source": [
        "true_price= 7.44\n",
        "print(true_price-bs_price)\n",
        "print(true_price-6.591084326598226)"
      ],
      "metadata": {
        "colab": {
          "base_uri": "https://localhost:8080/"
        },
        "id": "vAjQ7OCvwlht",
        "outputId": "533cf710-bdf3-4b7d-f271-0a7e5fb3ee28"
      },
      "execution_count": null,
      "outputs": [
        {
          "output_type": "stream",
          "name": "stdout",
          "text": [
            "1.5298976257697179\n",
            "0.8489156734017742\n"
          ]
        }
      ]
    },
    {
      "cell_type": "code",
      "source": [
        "import math\n",
        "\n",
        "def calculate_option_price(S, K, r, T, N, option_type='call'):\n",
        "    \"\"\"\n",
        "    Calculate option price using the Cox-Ross-Rubinstein (CRR) model.\n",
        "\n",
        "    Parameters:\n",
        "    S (float): Current stock price\n",
        "    K (float): Strike price\n",
        "    r (float): Risk-free interest rate per period\n",
        "    T (float): Time to expiration in years\n",
        "    N (int): Number of time periods (steps in the binomial tree)\n",
        "    option_type (str): Type of option, 'call' for call option and 'put' for put option\n",
        "\n",
        "    Returns:\n",
        "    float: Option price\n",
        "    \"\"\"\n",
        "\n",
        "    dt = T / N  # Time step\n",
        "    u = math.exp(r * dt)  # Up factor\n",
        "    d = 1 / u  # Down factor\n",
        "    p = (math.exp(r * dt) - d) / (u - d)  # Probability of up move\n",
        "\n",
        "    # Initialize option values at maturity\n",
        "    option_values = [0] * (N + 1)\n",
        "    for i in range(N + 1):\n",
        "        if option_type == 'call':\n",
        "            option_values[i] = max(0, S * (u ** i) * (d ** (N - i)) - K)\n",
        "        elif option_type == 'put':\n",
        "            option_values[i] = max(0, K - S * (u ** i) * (d ** (N - i)))\n",
        "\n",
        "    # Calculate option price at each node of the tree\n",
        "    for j in range(N - 1, -1, -1):\n",
        "        for i in range(j + 1):\n",
        "            option_values[i] = math.exp(-r * dt) * (p * option_values[i + 1] + (1 - p) * option_values[i])\n",
        "\n",
        "    return option_values[0]\n",
        "\n",
        "# Example usage:\n",
        "S0 = 20.91  # Current stock price\n",
        "K = 15   # Strike price\n",
        "r = 0.0465*3/252  # Risk-free interest rate\n",
        "T = 3/252     # Time to expiration in years\n",
        "N = 100   # Number of time periods\n",
        "\n",
        "call_option_price = calculate_option_price(S0, K, r, T, N, option_type='call')\n",
        "put_option_price = calculate_option_price(S0, K, r, T, N, option_type='put')\n",
        "\n",
        "print(f'Call Option Price: {call_option_price:.2f}')\n",
        "print(f'Put Option Price: {put_option_price:.2f}')"
      ],
      "metadata": {
        "colab": {
          "base_uri": "https://localhost:8080/"
        },
        "id": "5wFIUamnoRcq",
        "outputId": "4fac9463-bb08-412a-f87b-e978dd1b2264"
      },
      "execution_count": null,
      "outputs": [
        {
          "output_type": "stream",
          "name": "stdout",
          "text": [
            "Call Option Price: 5.91\n",
            "Put Option Price: 0.00\n"
          ]
        }
      ]
    }
  ]
}